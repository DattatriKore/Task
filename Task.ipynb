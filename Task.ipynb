{
 "cells": [
  {
   "cell_type": "code",
   "execution_count": null,
   "id": "2fb8d069",
   "metadata": {},
   "outputs": [],
   "source": [
    "import pandas as pd\n",
    "from fuzzywuzzy import fuzz"
   ]
  },
  {
   "cell_type": "code",
   "execution_count": null,
   "id": "c48976cd",
   "metadata": {},
   "outputs": [],
   "source": [
    "def clean_entity_names(df):\n",
    "    # Standardize company/supplier names\n",
    "    df['Company_Name'] = df['Company_Name'].apply(standardize_company_name)\n",
    "\n",
    "    # Standardize sponsoring government agency names\n",
    "    df['Government_Agency'] = df['Government_Agency'].apply(standardize_government_agency)\n",
    "\n",
    "    return df"
   ]
  },
  {
   "cell_type": "code",
   "execution_count": null,
   "id": "d10d73f1",
   "metadata": {},
   "outputs": [],
   "source": [
    "def standardize_company_name(name):\n",
    "    # Implement logic for standardizing company names (e.g., removing variations)\n",
    "    # You can use string matching or other techniques\n",
    "    # Example: Replace variations of Tata Steel with a common name \"Tata Steel\"\n",
    "    if \"Tata Steel\" in name:\n",
    "        return \"Tata Steel\""
   ]
  },
  {
   "cell_type": "code",
   "execution_count": null,
   "id": "bde2a63b",
   "metadata": {},
   "outputs": [],
   "source": [
    "def standardize_government_agency(name):\n",
    "    # Implement logic for standardizing government agency names\n",
    "    # Example: Replace variations of \"Department of Defense\" with \"DoD\"\n",
    "    if \"Department of Defense\" in name:\n",
    "        return \"DoD\""
   ]
  },
  {
   "cell_type": "code",
   "execution_count": null,
   "id": "2d9c9f66",
   "metadata": {},
   "outputs": [],
   "source": [
    "# Read data\n",
    "data = pd.read_csv('sam_data.csv')  # Replace 'sam_data.csv' with actual file name"
   ]
  },
  {
   "cell_type": "code",
   "execution_count": null,
   "id": "c7b16967",
   "metadata": {},
   "outputs": [],
   "source": [
    "# Clean data using the defined function\n",
    "cleaned_data = clean_entity_names(data)"
   ]
  },
  {
   "cell_type": "code",
   "execution_count": null,
   "id": "2f50fc95",
   "metadata": {},
   "outputs": [],
   "source": [
    "# Save cleaned data to a new CSV file\n",
    "cleaned_data.to_csv('cleaned_sam_data.csv', index=False)"
   ]
  },
  {
   "cell_type": "code",
   "execution_count": null,
   "id": "091b7092",
   "metadata": {},
   "outputs": [],
   "source": [
    "from fuzzywuzzy import fuzz, process"
   ]
  },
  {
   "cell_type": "code",
   "execution_count": null,
   "id": "cfd2013d",
   "metadata": {},
   "outputs": [],
   "source": [
    "# Function for fuzzy string matching\n",
    "def fuzzy_match(target, choices):\n",
    "    match, score = process.extractOne(target, choices, scorer=fuzz.token_sort_ratio)\n",
    "    if score >= 80:  # Adjust threshold based on your data\n",
    "        return match\n",
    "    else:\n",
    "        return target"
   ]
  },
  {
   "cell_type": "code",
   "execution_count": null,
   "id": "afa543a4",
   "metadata": {},
   "outputs": [],
   "source": [
    "# Read data\n",
    "data = pd.read_csv('sample_data.csv')  # Replace 'sample_data.csv' with actual file name"
   ]
  },
  {
   "cell_type": "code",
   "execution_count": null,
   "id": "6e1d014d",
   "metadata": {},
   "outputs": [],
   "source": [
    "# Fuzzy match and standardize company names\n",
    "data['Company_Name'] = data['Company_Name'].apply(lambda x: fuzzy_match(x, data['Company_Name'].unique()))"
   ]
  },
  {
   "cell_type": "code",
   "execution_count": null,
   "id": "00fff223",
   "metadata": {},
   "outputs": [],
   "source": [
    "# Fuzzy match and standardize government agency names\n",
    "data['Government_Agency'] = data['Government_Agency'].apply(lambda x: fuzzy_match(x, data['Government_Agency'].unique()))"
   ]
  },
  {
   "cell_type": "code",
   "execution_count": null,
   "id": "cc3f2359",
   "metadata": {},
   "outputs": [],
   "source": [
    "# Save cleaned data to a new CSV file\n",
    "data.to_csv('automated_cleaned_data.csv', index=False)"
   ]
  },
  {
   "cell_type": "code",
   "execution_count": null,
   "id": "c23d9c32",
   "metadata": {},
   "outputs": [],
   "source": [
    "import schedule\n",
    "import time"
   ]
  },
  {
   "cell_type": "code",
   "execution_count": null,
   "id": "f16bbd73",
   "metadata": {},
   "outputs": [],
   "source": [
    "# Function for automated cleaning\n",
    "def automate_cleaning():\n",
    "    data = pd.read_csv('new_data.csv')  # Replace 'new_data.csv' with actual file name\n",
    "    data['Company_Name'] = data['Company_Name'].apply(lambda x: fuzzy_match(x, data['Company_Name'].unique()))\n",
    "    data['Government_Agency'] = data['Government_Agency'].apply(lambda x: fuzzy_match(x, data['Government_Agency'].unique()))\n",
    "    data.to_csv('automated_cleaned_data.csv', index=False)"
   ]
  },
  {
   "cell_type": "code",
   "execution_count": null,
   "id": "ee71e9e7",
   "metadata": {},
   "outputs": [],
   "source": [
    "# Schedule script to run every day at midnight\n",
    "schedule.every().day.at(\"00:00\").do(automate_cleaning)"
   ]
  },
  {
   "cell_type": "code",
   "execution_count": null,
   "id": "1f72bc24",
   "metadata": {},
   "outputs": [],
   "source": [
    "while True:\n",
    "    schedule.run_pending()\n",
    "    time.sleep(1)"
   ]
  },
  {
   "cell_type": "code",
   "execution_count": null,
   "id": "9c21ad85",
   "metadata": {},
   "outputs": [],
   "source": []
  }
 ],
 "metadata": {
  "kernelspec": {
   "display_name": "Python 3 (ipykernel)",
   "language": "python",
   "name": "python3"
  },
  "language_info": {
   "codemirror_mode": {
    "name": "ipython",
    "version": 3
   },
   "file_extension": ".py",
   "mimetype": "text/x-python",
   "name": "python",
   "nbconvert_exporter": "python",
   "pygments_lexer": "ipython3",
   "version": "3.9.13"
  }
 },
 "nbformat": 4,
 "nbformat_minor": 5
}
